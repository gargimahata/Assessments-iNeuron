{
 "cells": [
  {
   "cell_type": "code",
   "execution_count": 1,
   "id": "f27c3336",
   "metadata": {},
   "outputs": [
    {
     "name": "stdout",
     "output_type": "stream",
     "text": [
      "Enter the number: 6\n",
      "The factorial of 6 is 720\n"
     ]
    }
   ],
   "source": [
    "#1. Write a Python Program to Find the Factorial of a Number?\n",
    "\n",
    "a = int(input(\"Enter the number: \"))\n",
    "fact = 1\n",
    "for i in range(1,(a+1)):\n",
    "    if i <= a:\n",
    "        fact = fact*i\n",
    "print(f\"The factorial of {a} is {fact}\")"
   ]
  },
  {
   "cell_type": "code",
   "execution_count": 2,
   "id": "17a07b9e",
   "metadata": {},
   "outputs": [
    {
     "name": "stdout",
     "output_type": "stream",
     "text": [
      "Enter the number: 19\n",
      "19*1 = 19\n",
      "19*2 = 38\n",
      "19*3 = 57\n",
      "19*4 = 76\n",
      "19*5 = 95\n",
      "19*6 = 114\n",
      "19*7 = 133\n",
      "19*8 = 152\n",
      "19*9 = 171\n",
      "19*10 = 190\n"
     ]
    }
   ],
   "source": [
    "#2. Write a Python Program to Display the multiplication Table?\n",
    "\n",
    "b = int(input(\"Enter the number: \"))\n",
    "for j in range(1,11):\n",
    "    multiple = b*j\n",
    "    print(f\"{b}*{j} = {multiple}\")"
   ]
  },
  {
   "cell_type": "code",
   "execution_count": 3,
   "id": "2697eb5f",
   "metadata": {},
   "outputs": [],
   "source": [
    "#3. Write a Python Program to Print the Fibonacci sequence?\n",
    "\n",
    "def PrintFibonacci(length):\n",
    "    first = 0\n",
    "    second = 1\n",
    "    print(first, second, end=\" \")\n",
    "    length = length-2\n",
    "    while length > 0:\n",
    "        print(first + second, end=\" \")\n",
    "        temp = second\n",
    "        second = first+second\n",
    "        first = temp\n",
    "        length -= 1"
   ]
  },
  {
   "cell_type": "code",
   "execution_count": 4,
   "id": "c8967145",
   "metadata": {},
   "outputs": [
    {
     "name": "stdout",
     "output_type": "stream",
     "text": [
      "0 1 1 2 3 "
     ]
    }
   ],
   "source": [
    "PrintFibonacci(5)"
   ]
  },
  {
   "cell_type": "code",
   "execution_count": 5,
   "id": "7de7166a",
   "metadata": {},
   "outputs": [
    {
     "name": "stdout",
     "output_type": "stream",
     "text": [
      "Enter a number: 407\n",
      "407 is an Armstrong number\n"
     ]
    }
   ],
   "source": [
    "#4. Write a Python Program to Check Armstrong Number?\n",
    "\n",
    "c = int(input(\"Enter a number: \"))\n",
    "order = len(str(c))\n",
    "sum = 0\n",
    "temp = c\n",
    "while temp > 0:\n",
    "    digit = temp % 10\n",
    "    sum += digit ** order\n",
    "    temp //= 10\n",
    "if c == sum:\n",
    "    print(c,\"is an Armstrong number\")\n",
    "else:\n",
    "    print(c,\"is not an Armstrong number\")"
   ]
  },
  {
   "cell_type": "code",
   "execution_count": 6,
   "id": "628fe5ee",
   "metadata": {},
   "outputs": [
    {
     "name": "stdout",
     "output_type": "stream",
     "text": [
      "The lower bound is: 100\n",
      "The upper bound is: 40000\n",
      "153\n",
      "370\n",
      "371\n",
      "407\n",
      "1634\n",
      "8208\n",
      "9474\n"
     ]
    }
   ],
   "source": [
    "#5. Write a Python Program to Find Armstrong Number in an Interval?\n",
    "\n",
    "lower = int(input(\"The lower bound is: \"))\n",
    "upper = int(input(\"The upper bound is: \"))\n",
    "for d in range(lower,(upper+1)):\n",
    "    order = len(str(d))\n",
    "    sum = 0\n",
    "    temp = d\n",
    "    while temp > 0:\n",
    "        digit = temp % 10\n",
    "        sum += digit ** order\n",
    "        temp //= 10\n",
    "    if d == sum:\n",
    "        print(d)"
   ]
  },
  {
   "cell_type": "code",
   "execution_count": 8,
   "id": "bc2ade6c",
   "metadata": {},
   "outputs": [
    {
     "name": "stdout",
     "output_type": "stream",
     "text": [
      "Enter a number: 100\n",
      "Sum of first 100 Natural Numbers is 5050\n"
     ]
    }
   ],
   "source": [
    "#6. Write a Python Program to Find the Sum of Natural Numbers?\n",
    "\n",
    "num = int(input(\"Enter a number: \"))\n",
    "\n",
    "if num < 1:\n",
    "    print(\"Enter a positive number.\")\n",
    "else:\n",
    "    sum = 0\n",
    "    for j in range(1,(num+1)):\n",
    "        sum += j\n",
    "print(f\"Sum of first {num} Natural Numbers is {sum}\")"
   ]
  }
 ],
 "metadata": {
  "kernelspec": {
   "display_name": "Python 3 (ipykernel)",
   "language": "python",
   "name": "python3"
  },
  "language_info": {
   "codemirror_mode": {
    "name": "ipython",
    "version": 3
   },
   "file_extension": ".py",
   "mimetype": "text/x-python",
   "name": "python",
   "nbconvert_exporter": "python",
   "pygments_lexer": "ipython3",
   "version": "3.9.7"
  }
 },
 "nbformat": 4,
 "nbformat_minor": 5
}
