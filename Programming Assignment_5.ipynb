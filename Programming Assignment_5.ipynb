{
 "cells": [
  {
   "cell_type": "code",
   "execution_count": 1,
   "id": "b896c1d0",
   "metadata": {},
   "outputs": [],
   "source": [
    "#1. Write a Python Program to Find LCM?\n",
    "\n",
    "def find_lcm(x, y):\n",
    "    if x > y:\n",
    "        greater = x\n",
    "    else:\n",
    "        greater = y\n",
    "    \n",
    "    while(True):\n",
    "        if((greater % x == 0) and (greater % y == 0)):\n",
    "            lcm = greater\n",
    "            break\n",
    "        greater += 1\n",
    "\n",
    "    return lcm"
   ]
  },
  {
   "cell_type": "code",
   "execution_count": 2,
   "id": "5e18d040",
   "metadata": {},
   "outputs": [
    {
     "data": {
      "text/plain": [
       "20"
      ]
     },
     "execution_count": 2,
     "metadata": {},
     "output_type": "execute_result"
    }
   ],
   "source": [
    "find_lcm(4,5)"
   ]
  },
  {
   "cell_type": "code",
   "execution_count": 3,
   "id": "f46b7fcd",
   "metadata": {},
   "outputs": [],
   "source": [
    "#2. Write a Python Program to Find HCF?\n",
    "\n",
    "def find_hcf(a,b):\n",
    "    \n",
    "    while(b):\n",
    "        a, b = b, a % b\n",
    "    return a"
   ]
  },
  {
   "cell_type": "code",
   "execution_count": 4,
   "id": "5e957a26",
   "metadata": {},
   "outputs": [
    {
     "data": {
      "text/plain": [
       "8"
      ]
     },
     "execution_count": 4,
     "metadata": {},
     "output_type": "execute_result"
    }
   ],
   "source": [
    "find_hcf(24,32)"
   ]
  },
  {
   "cell_type": "code",
   "execution_count": 5,
   "id": "56c1cd42",
   "metadata": {},
   "outputs": [],
   "source": [
    "#3. Write a Python Program to Convert Decimal to Binary, Octal and Hexadecimal?\n",
    "\n",
    "def dec(c):\n",
    "    \n",
    "    val = int(c)\n",
    "    print(\"The decimal value of\", val, \"is:\")\n",
    "    print(bin(val), \"in binary.\")\n",
    "    print(oct(val), \"in octal.\")\n",
    "    print(hex(val), \"in hexadecimal.\")"
   ]
  },
  {
   "cell_type": "code",
   "execution_count": 6,
   "id": "32b49596",
   "metadata": {},
   "outputs": [
    {
     "name": "stdout",
     "output_type": "stream",
     "text": [
      "The decimal value of 321 is:\n",
      "0b101000001 in binary.\n",
      "0o501 in octal.\n",
      "0x141 in hexadecimal.\n"
     ]
    }
   ],
   "source": [
    "dec(321)"
   ]
  },
  {
   "cell_type": "code",
   "execution_count": 7,
   "id": "83d4e2cf",
   "metadata": {},
   "outputs": [],
   "source": [
    "#4. Write a Python Program To Find ASCII value of a character?\n",
    "\n",
    "def ASCII_val(d):\n",
    "    val = str(d)\n",
    "    print(\"The ASCII value of '\" + val + \"' is\", ord(val))\n"
   ]
  },
  {
   "cell_type": "code",
   "execution_count": 10,
   "id": "321477b9",
   "metadata": {},
   "outputs": [
    {
     "name": "stdout",
     "output_type": "stream",
     "text": [
      "The ASCII value of 'q' is 113\n"
     ]
    }
   ],
   "source": [
    "ASCII_val('q')"
   ]
  },
  {
   "cell_type": "code",
   "execution_count": 9,
   "id": "70a625bb",
   "metadata": {},
   "outputs": [
    {
     "name": "stdout",
     "output_type": "stream",
     "text": [
      "Please select the operation.\n",
      "a. Add\n",
      "b. Subtract\n",
      "c. Multiply\n",
      "d. Divide\n",
      "Please enter choice (a/ b/ c/ d): b\n",
      "Please enter the first number: 3\n",
      "Please enter the second number: 9\n",
      "3  -  9  =  -6\n"
     ]
    }
   ],
   "source": [
    "def add(P, Q):     \n",
    "    return P + Q   \n",
    "def subtract(P, Q):       \n",
    "    return P - Q   \n",
    "def multiply(P, Q):\n",
    "    return P * Q   \n",
    "def divide(P, Q):   \n",
    "    return P / Q  \n",
    "print (\"Please select the operation.\")    \n",
    "print (\"a. Add\")    \n",
    "print (\"b. Subtract\")    \n",
    "print (\"c. Multiply\")    \n",
    "print (\"d. Divide\")    \n",
    "        \n",
    "choice = input(\"Please enter choice (a/ b/ c/ d): \")    \n",
    "        \n",
    "num_1 = int (input (\"Please enter the first number: \"))    \n",
    "num_2 = int (input (\"Please enter the second number: \"))    \n",
    "if choice == 'a':    \n",
    "    print (num_1, \" + \", num_2, \" = \", add(num_1, num_2))    \n",
    "        \n",
    "elif choice == 'b':    \n",
    "    print (num_1, \" - \", num_2, \" = \", subtract(num_1, num_2))    \n",
    "        \n",
    "elif choice == 'c':    \n",
    "    print (num1, \" * \", num2, \" = \", multiply(num1, num2))    \n",
    "elif choice == 'd':    \n",
    "    print (num_1, \" / \", num_2, \" = \", divide(num_1, num_2))    \n",
    "else:    \n",
    "    print (\"This is an invalid input\")"
   ]
  }
 ],
 "metadata": {
  "kernelspec": {
   "display_name": "Python 3 (ipykernel)",
   "language": "python",
   "name": "python3"
  },
  "language_info": {
   "codemirror_mode": {
    "name": "ipython",
    "version": 3
   },
   "file_extension": ".py",
   "mimetype": "text/x-python",
   "name": "python",
   "nbconvert_exporter": "python",
   "pygments_lexer": "ipython3",
   "version": "3.9.7"
  }
 },
 "nbformat": 4,
 "nbformat_minor": 5
}
