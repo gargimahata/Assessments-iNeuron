{
 "cells": [
  {
   "cell_type": "code",
   "execution_count": null,
   "id": "e179e341",
   "metadata": {},
   "outputs": [],
   "source": [
    "#1. Why are functions advantageous to have in your programs?\n",
    "\n",
    "#Ans- Functions reduce the need for duplicate code. This makes programs shorter, easier to read, and easier to update.\n"
   ]
  },
  {
   "cell_type": "code",
   "execution_count": 2,
   "id": "ba2abe9d",
   "metadata": {},
   "outputs": [],
   "source": [
    "#2. When does the code in a function run: when it's specified or when it's called?\n",
    "\n",
    "#Ans- when the function is called\n"
   ]
  },
  {
   "cell_type": "code",
   "execution_count": 3,
   "id": "9e66f871",
   "metadata": {},
   "outputs": [],
   "source": [
    "#3. What statement creates a function?\n",
    "\n",
    "#Ans- def statement creates a function.\n"
   ]
  },
  {
   "cell_type": "code",
   "execution_count": 4,
   "id": "b0e53a0b",
   "metadata": {},
   "outputs": [],
   "source": [
    "#4. What is the difference between a function and a function call?\n",
    "\n",
    "#Ans- A function consists of the def statement and the code in its def clause.\n",
    "\n",
    "#Ans- A function call is what moves the program execution into the function, and the function call evaluates to the function's return value.\n"
   ]
  },
  {
   "cell_type": "code",
   "execution_count": 5,
   "id": "0d2195a0",
   "metadata": {},
   "outputs": [],
   "source": [
    "#5. How many global scopes are there in a Python program? How many local scopes?\n",
    "\n",
    "#Ans- There is one global scope.\n",
    "#Ans- Local scope is created whenever a function is called."
   ]
  },
  {
   "cell_type": "code",
   "execution_count": 6,
   "id": "05d30d25",
   "metadata": {},
   "outputs": [],
   "source": [
    "#6. What happens to variables in a local scope when the function call returns?\n",
    "\n",
    "#Ans- When a function returns, the local scope is destroyed, and all the variables in it are forgotten."
   ]
  },
  {
   "cell_type": "code",
   "execution_count": 7,
   "id": "a17a6409",
   "metadata": {},
   "outputs": [],
   "source": [
    "#7. What is the concept of a return value? Is it possible to have a return value in an expression?\n",
    "\n",
    "#Ans- A return value is the value that a function call evaluates to. Like any value, a return value can be used as part of an expression.\n"
   ]
  },
  {
   "cell_type": "code",
   "execution_count": 8,
   "id": "d307033c",
   "metadata": {},
   "outputs": [],
   "source": [
    "#8. If a function does not have a return statement, what is the return value of a call to that function?\n",
    "\n",
    "#Ans- return value is None.\n"
   ]
  },
  {
   "cell_type": "code",
   "execution_count": 9,
   "id": "44f60910",
   "metadata": {},
   "outputs": [],
   "source": [
    "#9. How do you make a function variable refer to the global variable?\n",
    "\n",
    "#Ans- A global statement will force a variable in a function to refer to the global variable."
   ]
  },
  {
   "cell_type": "code",
   "execution_count": 10,
   "id": "16786f4a",
   "metadata": {},
   "outputs": [],
   "source": [
    "#10. What is the data type of None?\n",
    "\n",
    "#Ans- The data type of None is Nonetype."
   ]
  },
  {
   "cell_type": "code",
   "execution_count": 11,
   "id": "2c9c1e20",
   "metadata": {},
   "outputs": [],
   "source": [
    "#11. What does the sentence import areallyourpetsnamederic do?\n",
    "\n",
    "#Ans- Imports a module named areallyourpetsnamederic."
   ]
  },
  {
   "cell_type": "code",
   "execution_count": 12,
   "id": "341afde6",
   "metadata": {},
   "outputs": [],
   "source": [
    "#12. If you had a bacon() feature in a spam module, what would you call it after importing spam?\n",
    "\n",
    "#Ans- spam.bacon()"
   ]
  },
  {
   "cell_type": "code",
   "execution_count": 13,
   "id": "5cb3f433",
   "metadata": {},
   "outputs": [],
   "source": [
    "#13. What can you do to save a programme from crashing if it encounters an error?\n",
    "\n",
    "#Ans- Place the line of code that might cause an error in a try clause."
   ]
  },
  {
   "cell_type": "code",
   "execution_count": 14,
   "id": "03869963",
   "metadata": {},
   "outputs": [],
   "source": [
    "#14. What is the purpose of the try clause? What is the purpose of the except clause?\n",
    "\n",
    "#Ans- The code that could potentially cause an error goes in the try clause.\n",
    "\n",
    "#       The code that executes if an error happens goes in the except clause.\n"
   ]
  }
 ],
 "metadata": {
  "kernelspec": {
   "display_name": "Python 3 (ipykernel)",
   "language": "python",
   "name": "python3"
  },
  "language_info": {
   "codemirror_mode": {
    "name": "ipython",
    "version": 3
   },
   "file_extension": ".py",
   "mimetype": "text/x-python",
   "name": "python",
   "nbconvert_exporter": "python",
   "pygments_lexer": "ipython3",
   "version": "3.9.7"
  }
 },
 "nbformat": 4,
 "nbformat_minor": 5
}
