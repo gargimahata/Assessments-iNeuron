{
 "cells": [
  {
   "cell_type": "code",
   "execution_count": 1,
   "id": "95725a18",
   "metadata": {},
   "outputs": [
    {
     "name": "stdout",
     "output_type": "stream",
     "text": [
      "Hello Python\n"
     ]
    }
   ],
   "source": [
    "#1. Write a Python program to print \"Hello Python\"?\n",
    "\n",
    "print(\"Hello Python\")"
   ]
  },
  {
   "cell_type": "code",
   "execution_count": 2,
   "id": "ddc30c56",
   "metadata": {},
   "outputs": [
    {
     "name": "stdout",
     "output_type": "stream",
     "text": [
      "Write the first number: 5\n",
      "Write the second number: 7\n",
      "12.0\n",
      "0.7142857142857143\n"
     ]
    }
   ],
   "source": [
    "#2. Write a Python program to do arithmetical operations addition and division.?\n",
    "\n",
    "a = float(input(\"Write the first number: \"))\n",
    "b = float(input(\"Write the second number: \"))\n",
    "\n",
    "print(a+b)\n",
    "print(a/b)"
   ]
  },
  {
   "cell_type": "code",
   "execution_count": 3,
   "id": "64524ceb",
   "metadata": {},
   "outputs": [
    {
     "name": "stdout",
     "output_type": "stream",
     "text": [
      "Length of  1st side of a tringle 7\n",
      "Length of  2nd side of a tringle 9\n",
      "Length of  3rd side of a tringle 5\n",
      "17.41228014936585\n"
     ]
    }
   ],
   "source": [
    "#3. Write a Python program to find the area of a triangle?\n",
    "\n",
    "c = float(input(\"Length of  1st side of a tringle \"))\n",
    "d = float(input(\"Length of  2nd side of a tringle \"))\n",
    "e = float(input(\"Length of  3rd side of a tringle \"))\n",
    "\n",
    "s = (c+d+e)/2\n",
    "\n",
    "area = (s*(s-c)*(s-d)*(s-e))**(1/2)\n",
    "\n",
    "print(area)"
   ]
  },
  {
   "cell_type": "code",
   "execution_count": 4,
   "id": "208555c9",
   "metadata": {},
   "outputs": [
    {
     "name": "stdout",
     "output_type": "stream",
     "text": [
      "enter the first number: 7\n",
      "enter the second number: 8\n",
      "First number after swapping: 8\n",
      "Second number after swapping: 7\n"
     ]
    }
   ],
   "source": [
    "#4. Write a Python program to swap two variables?\n",
    "\n",
    "f = int(input(\"enter the first number: \"))\n",
    "g = int(input(\"enter the second number: \"))\n",
    "\n",
    "temp = f\n",
    "f = g\n",
    "g = temp\n",
    "\n",
    "print(f\"First number after swapping: {f}\")\n",
    "print(f\"Second number after swapping: {g}\")"
   ]
  },
  {
   "cell_type": "code",
   "execution_count": 6,
   "id": "fa59a6b6",
   "metadata": {},
   "outputs": [
    {
     "name": "stdout",
     "output_type": "stream",
     "text": [
      "Random Number = 0.807508368126074\n"
     ]
    }
   ],
   "source": [
    "#5. Write a Python program to generate a random number?\n",
    "\n",
    "import random\n",
    "\n",
    "random_number = random.random()\n",
    "print(\"Random Number =\", random_number)"
   ]
  }
 ],
 "metadata": {
  "kernelspec": {
   "display_name": "Python 3 (ipykernel)",
   "language": "python",
   "name": "python3"
  },
  "language_info": {
   "codemirror_mode": {
    "name": "ipython",
    "version": 3
   },
   "file_extension": ".py",
   "mimetype": "text/x-python",
   "name": "python",
   "nbconvert_exporter": "python",
   "pygments_lexer": "ipython3",
   "version": "3.9.7"
  }
 },
 "nbformat": 4,
 "nbformat_minor": 5
}
