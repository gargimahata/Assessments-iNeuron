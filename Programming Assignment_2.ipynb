{
 "cells": [
  {
   "cell_type": "code",
   "execution_count": 1,
   "id": "66c216a3",
   "metadata": {},
   "outputs": [
    {
     "name": "stdout",
     "output_type": "stream",
     "text": [
      "the distance in kilometer: 5\n",
      "the distance in miles: 3.106855\n"
     ]
    }
   ],
   "source": [
    "#1. Write a Python program to convert kilometers to miles?\n",
    "\n",
    "a = float(input(\"the distance in kilometer: \"))\n",
    "\n",
    "b = 0.621371*a\n",
    "\n",
    "print(f\"the distance in miles: {b}\")"
   ]
  },
  {
   "cell_type": "code",
   "execution_count": 2,
   "id": "5616a01e",
   "metadata": {},
   "outputs": [
    {
     "name": "stdout",
     "output_type": "stream",
     "text": [
      "The temp in Celsius: 37\n",
      "The temp in Fahrenheit: 98.60000000000001\n"
     ]
    }
   ],
   "source": [
    "#2. Write a Python program to convert Celsius to Fahrenheit?\n",
    "\n",
    "c  = float(input(\"The temp in Celsius: \"))\n",
    "f = (c*1.8)+32\n",
    "print(f\"The temp in Fahrenheit: {f}\")"
   ]
  },
  {
   "cell_type": "code",
   "execution_count": 3,
   "id": "e8301ecd",
   "metadata": {},
   "outputs": [
    {
     "name": "stdout",
     "output_type": "stream",
     "text": [
      "     July 2022\n",
      "Mo Tu We Th Fr Sa Su\n",
      "             1  2  3\n",
      " 4  5  6  7  8  9 10\n",
      "11 12 13 14 15 16 17\n",
      "18 19 20 21 22 23 24\n",
      "25 26 27 28 29 30 31\n",
      "\n"
     ]
    }
   ],
   "source": [
    "#3. Write a Python program to display calendar?\n",
    "\n",
    "import calendar\n",
    "yy = 2022\n",
    "mm = 7\n",
    "\n",
    "print(calendar.month(yy, mm))"
   ]
  },
  {
   "cell_type": "code",
   "execution_count": 4,
   "id": "86115ad3",
   "metadata": {},
   "outputs": [
    {
     "name": "stdout",
     "output_type": "stream",
     "text": [
      "value of a: 4\n",
      "value of b: 8\n",
      "value of c: 8\n",
      "The solutions are: -5.0 and 3.0\n"
     ]
    }
   ],
   "source": [
    "#4. Write a Python program to solve quadratic equation?\n",
    "\n",
    "#Quadratic equation ax**2 + bx + c = 0\n",
    "\n",
    "g = float(input(\"value of a: \"))\n",
    "h = float(input(\"value of b: \"))\n",
    "i = float(input(\"value of c: \"))\n",
    "j = (h*h-4*g*i)\n",
    "\n",
    "\n",
    "k = (-h + (j**1/2))/(2*g)\n",
    "l = (-h - (j**1/2))/(2*g)\n",
    "\n",
    "print(f\"The solutions are: {k} and {l}\")"
   ]
  },
  {
   "cell_type": "code",
   "execution_count": 5,
   "id": "e1b5a932",
   "metadata": {},
   "outputs": [
    {
     "name": "stdout",
     "output_type": "stream",
     "text": [
      "value of first number: 4\n",
      "value of second number: 5\n",
      "After Swapping: first number = 5 second number =, 4\n"
     ]
    }
   ],
   "source": [
    "#5. Write a Python program to swap two variables without temp variable?\n",
    "\n",
    "m = int(input(\"value of first number: \"))\n",
    "n = int(input(\"value of second number: \"))\n",
    "m = n ^ m\n",
    "n = n ^ m\n",
    "m = n ^ m\n",
    "\n",
    "print (f\"After Swapping: first number = {m} second number =, {n}\")"
   ]
  }
 ],
 "metadata": {
  "kernelspec": {
   "display_name": "Python 3 (ipykernel)",
   "language": "python",
   "name": "python3"
  },
  "language_info": {
   "codemirror_mode": {
    "name": "ipython",
    "version": 3
   },
   "file_extension": ".py",
   "mimetype": "text/x-python",
   "name": "python",
   "nbconvert_exporter": "python",
   "pygments_lexer": "ipython3",
   "version": "3.9.7"
  }
 },
 "nbformat": 4,
 "nbformat_minor": 5
}
